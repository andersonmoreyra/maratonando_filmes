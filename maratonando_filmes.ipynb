{
 "cells": [
  {
   "cell_type": "code",
   "execution_count": null,
   "id": "800ecd7f",
   "metadata": {},
   "outputs": [],
   "source": [
    "'''Algoritmo pra encontrar o numero minimo de dias pra assitir uma lista de filmes\n",
    "Regras: Nenhum filme é menor do 1,01 hora e e tambem não é maior do que 3 horas\n",
    "O tempo maximo que a pessoa assiste por dia são tres horas.\n",
    "No exemplo abaixo será necessario 153 dias '''"
   ]
  },
  {
   "cell_type": "code",
   "execution_count": 1,
   "id": "1471815f",
   "metadata": {},
   "outputs": [
    {
     "name": "stdout",
     "output_type": "stream",
     "text": [
      "153\n"
     ]
    }
   ],
   "source": [
    "def acharMinimoDeDias(duracoes):\n",
    "    # Write your code here\n",
    "    duracoes = sorted(duracoes)\n",
    "    duracoes_final = []\n",
    "    tamanho = 0\n",
    "       \n",
    "    while tamanho < (len(duracoes)):\n",
    "        if duracoes[tamanho]> 1.99:\n",
    "            a = duracoes[tamanho]\n",
    "            duracoes.pop(tamanho)\n",
    "            duracoes_final.append(a)\n",
    "            tamanho -=1\n",
    "        else:\n",
    "            tamanho +=1\n",
    "    \n",
    "    duracoes_aux = duracoes\n",
    "    for i in range(len(duracoes)-1):\n",
    "        if duracoes[i] >=1.01:\n",
    "            for j in range(len(duracoes_aux)-1):\n",
    "                if duracoes_aux[(j+1)*(-1)] >=1.01 and duracoes[i] >=1.01:\n",
    "                    aux = duracoes[i]+ duracoes_aux[(j+1)*(-1)]\n",
    "                    if  aux <= 3 :\n",
    "                        if duracoes[i] >=1.01:\n",
    "                            ordena = sorted([duracoes[i],duracoes_aux[(j+1)*(-1)]])\n",
    "                            duracoes_final.append(ordena)\n",
    "                            duracoes[i] = 0\n",
    "                            duracoes_aux[(j+1)*(-1)] = 0\n",
    "  \n",
    "    for i in range(len(duracoes)):\n",
    "        if duracoes[i] > 0:\n",
    "            duracoes_final.append(duracoes[i])\n",
    "   \n",
    "    tot_dias = len(duracoes_final)\n",
    "     \n",
    "    return (tot_dias)\n",
    "    \n",
    "    \n",
    "    \n",
    "    \n",
    "print(acharMinimoDeDias([1.01, 1.05, 1.09, 1.09, 1.09, 1.1, 1.11, 1.11, 1.12, 1.12, 1.14, 1.17, 1.17, 1.19, 1.2,\n",
    "                         1.21, 1.21, 1.23, 1.25, 1.27, 1.27, 1.28, 1.31, 1.31, 1.31, 1.32, 1.32, 1.33, 1.33, 1.35,\n",
    "                         1.35, 1.35, 1.37, 1.37, 1.37, 1.38, 1.39, 1.4, 1.41, 1.41, 1.41, 1.42, 1.43, 1.44, 1.45,\n",
    "                         1.45, 1.46, 1.46, 1.47, 1.47, 1.49, 1.49, 1.49, 1.5, 1.5, 1.52, 1.53, 1.55, 1.56, 1.57,\n",
    "                         1.57, 1.59, 1.61, 1.63, 1.63, 1.65, 1.65, 1.66, 1.68, 1.68, 1.69, 1.69, 1.71, 1.72, 1.73,\n",
    "                         1.73, 1.75, 1.76, 1.77, 1.77, 1.81, 1.82, 1.82, 1.83, 1.86, 1.86, 1.87, 1.89, 1.89, 1.89,\n",
    "                         1.89, 1.89, 1.92, 1.93, 1.93, 1.94, 1.94, 1.95, 1.96, 1.97, 1.98, 1.98, 1.99, 2.0, 2.02, \n",
    "                         2.02, 2.03, 2.05, 2.05, 2.05, 2.05, 2.05, 2.05, 2.07, 2.11, 2.12, 2.12, 2.13, 2.14, 2.14,\n",
    "                         2.15, 2.15, 2.15, 2.17, 2.17, 2.19, 2.19, 2.2, 2.21, 2.23, 2.25, 2.25, 2.25, 2.25, 2.29, \n",
    "                         2.29, 2.29, 2.29, 2.29, 2.29, 2.33, 2.34, 2.36, 2.36, 2.37, 2.39, 2.4, 2.43, 2.45, 2.45,\n",
    "                         2.45, 2.45, 2.47, 2.47, 2.47, 2.48, 2.48, 2.49, 2.51, 2.53, 2.53, 2.53, 2.53, 2.56, 2.57,\n",
    "                         2.57, 2.6, 2.61, 2.61, 2.61, 2.63, 2.63, 2.65, 2.67, 2.67, 2.67, 2.69, 2.71, 2.73, 2.76, \n",
    "                         2.77, 2.77, 2.77, 2.81, 2.83, 2.85, 2.88, 2.89, 2.89, 2.89, 2.92, 2.93, 2.93, 2.93, 2.93,\n",
    "                         2.93, 2.95, 2.97, 2.98, 2.99]))"
   ]
  },
  {
   "cell_type": "code",
   "execution_count": null,
   "id": "7d177e8b",
   "metadata": {},
   "outputs": [],
   "source": []
  }
 ],
 "metadata": {
  "kernelspec": {
   "display_name": "Python 3 (ipykernel)",
   "language": "python",
   "name": "python3"
  },
  "language_info": {
   "codemirror_mode": {
    "name": "ipython",
    "version": 3
   },
   "file_extension": ".py",
   "mimetype": "text/x-python",
   "name": "python",
   "nbconvert_exporter": "python",
   "pygments_lexer": "ipython3",
   "version": "3.9.7"
  }
 },
 "nbformat": 4,
 "nbformat_minor": 5
}
